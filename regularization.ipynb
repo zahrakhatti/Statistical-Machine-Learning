import torch
import torch.nn as nn
from sklearn.model_selection import train_test_split
import pandas as pd
import numpy as np
from sklearn import preprocessing
from sklearn.preprocessing import StandardScaler

#Setting seeds for reproducibility
import random
torch.manual_seed(42)
random.seed(0)
np.random.seed(0)
## Preprocessing
# Load Data
file_path = "/Users/zahrakhatti/Desktop/Research/codes/classification/1. Classification/adult/adult.data"
columns = ['age', 'workclass', 'fnlwgt', 'education', 'education-num', 'marital-status', 'occupation', 'relationship',
           'race', 'sex', 'capital-gain', 'capital-loss', 'hours-per-week', 'native-country', 'income']

df = pd.read_csv(file_path, header=None, skipinitialspace=True, names=columns)
data = df.copy()
df.head()

data['workclass']=data['workclass'].replace('?',np.nan)
data['occupation']=data['occupation'].replace('?',np.nan)
data['native-country']=data['native-country'].replace('?',np.nan)
data.dropna(how='any',inplace=True)
data = data.drop_duplicates()
data = data.drop(['education-num', 'capital-gain', 'capital-loss', 'fnlwgt'], axis=1)
data.head()

data['income'] = data['income'].map({'>50K': 1, '<=50K': 0})

# Turning categorical to numerical 
label_encoder = preprocessing.LabelEncoder()
data['workclass'] = label_encoder.fit_transform(data['workclass'])
data['education'] = label_encoder.fit_transform(data['education'])
data['marital-status'] = label_encoder.fit_transform(data['marital-status'])
data['occupation'] = label_encoder.fit_transform(data['occupation'])
data['relationship'] = label_encoder.fit_transform(data['relationship'])
data['race'] = label_encoder.fit_transform(data['race'])
data['sex'] = label_encoder.fit_transform(data['sex'])
data['native-country'] = label_encoder.fit_transform(data['native-country'])
data['income'] = label_encoder.fit_transform(data['income'])

data.head()
# Hyperparameters
hidden_size = 100
num_epochs = 5
learning_rate = 0.001
batch_size = 50
num_classes = 1

# Defining x and y

y = data['income']
x_before = data.drop('income', axis=1)

# Scaling all of the features
scaler = StandardScaler()
x = scaler.fit_transform(x_before)
x = pd.DataFrame(x, columns=x_before.columns)
x
## Defining features and labels
## Splitting the data to train and test and transforming it to tensor
input_size = x.shape[1]
features = x.values.astype(float)

# Splitting the dataset into training and testing sets
features_train, features_test, y_train, y_test = train_test_split(features, y, test_size=0.2, random_state=42)

# Convert data to PyTorch tensors
train_tensor_x = torch.tensor(features_train).float()
train_tensor_y = torch.tensor(y_train.values.squeeze()).float() 
test_tensor_x = torch.tensor(features_test).float()
test_tensor_y = torch.tensor(y_test.values.squeeze()).float() 

train_dataset = torch.utils.data.TensorDataset(train_tensor_x, train_tensor_y)
test_dataset = torch.utils.data.TensorDataset(test_tensor_x, test_tensor_y)

train_loader = torch.utils.data.DataLoader(dataset=train_dataset, batch_size=batch_size, shuffle=False)
test_loader = torch.utils.data.DataLoader(dataset=test_dataset, batch_size=batch_size, shuffle=False)
input_size
# Neural Network Model

class NeuralNet(nn.Module):
    def __init__(self, input_size, hidden_size, num_classes):
        super(NeuralNet, self).__init__()
        self.w1 = nn.Linear(input_size, hidden_size)
        self.relu = nn.ReLU()
        self.w2 = nn.Linear(hidden_size, num_classes)
        self.tanh = nn.Tanh() 

    def forward(self, x):
        h = self.w1(x)
        sigma_h = self.relu(h)
        y_hat = self.w2(sigma_h)
        out = self.tanh(y_hat)  
        return out



# Model, Loss, and Optimizer
model = NeuralNet(input_size,hidden_size, num_classes)
criterion = nn.BCEWithLogitsLoss() 


optimizer = torch.optim.Adam(model.parameters(), lr=learning_rate)

s_mean = x['sex'].mean()
sex_column_index = x.columns.get_loc('sex')

# Training Loop
n_total_steps = len(train_loader)
for epoch in range(num_epochs):
    for i, (features, labels) in enumerate(train_loader):

        # Forward pass
        Y_hat = model(features)
        loss = criterion(Y_hat, labels.unsqueeze(1))
        s = features[:, sex_column_index]




        # Calculating covariance
        covariance = torch.mean((s - s_mean) * Y_hat.reshape(-1)).reshape(-1) 
        loss += 0* torch.norm(covariance)**2



        # Backward and optimize
        optimizer.zero_grad()
        loss.backward()
        optimizer.step()
        
        if (i + 1) % 100 == 0:
            print(f'Epoch [{epoch + 1}/{num_epochs}], Step [{i + 1}/{n_total_steps}], Loss: {loss.item():.4f}')
            
    with torch.no_grad():
        correct = 0
        total = 0
        threshold = 0

        for inputs, labels in test_loader:
            outputs = model(inputs)
                
            # Applying threshold dynamically based on the specified threshold value
            predicted = torch.where(outputs >= threshold, torch.tensor(1), torch.tensor(0))
            total += labels.size(0)
            correct += (predicted == labels.unsqueeze(1).float()).sum().item()

    accuracy = 100 * correct / total
    print(f'Test Accuracy: {accuracy:.2f}%')
    print(torch.norm(covariance)**2)
with torch.no_grad():
    correct = 0
    total = 0
    correct_male = 0
    total_male = 0
    correct_female = 0
    total_female = 0
    threshold = 0 

    for inputs, labels in test_loader:
        outputs = model(inputs)

        # Applying threshold dynamically based on the specified threshold value
        predicted = torch.where(outputs >= threshold, torch.tensor(1), torch.tensor(0))

        total += labels.size(0)
        correct += (predicted == labels.unsqueeze(1).float()).sum().item()

        sex = inputs[:, sex_column_index]

        # Calculate accuracy for male and female separately
        for i in range(len(sex)):
            if sex[i] >0 :  
                total_male += 1
                if predicted[i] == labels[i]:
                    correct_male += 1
            elif sex[i] <0:  
                total_female += 1
                if predicted[i] == labels[i]:
                    correct_female += 1

accuracy = 100 * correct / total
accuracy_male = 100 * correct_male / total_male if total_male > 0 else 0
accuracy_female = 100 * correct_female / total_female if total_female > 0 else 0

print(f'Test Accuracy: {accuracy:.2f}%')
print(f'Male Accuracy: {accuracy_male:.2f}%')
print(f'Female Accuracy: {accuracy_female:.2f}%')
print(total)
print(total_male + total_female)
